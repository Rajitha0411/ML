{
 "cells": [
  {
   "cell_type": "code",
   "execution_count": 1,
   "id": "b96e94e2-9988-4aaf-a40f-b22d5e202438",
   "metadata": {},
   "outputs": [],
   "source": [
    "import pandas as pd\n",
    "import numpy as np\n",
    "import os\n",
    "import re\n",
    "import random\n",
    "import pandas as pd"
   ]
  },
  {
   "cell_type": "code",
   "execution_count": 2,
   "id": "1bc3db96-39a5-45d8-9574-39d646e75193",
   "metadata": {},
   "outputs": [
    {
     "name": "stderr",
     "output_type": "stream",
     "text": [
      "C:\\Users\\rajitha\\AppData\\Local\\Temp\\ipykernel_16904\\2299506683.py:1: DtypeWarning: Columns (11) have mixed types. Specify dtype option on import or set low_memory=False.\n",
      "  df=pd.read_csv(r\"C:\\Users\\rajitha\\Downloads\\aws_review_sofware_dataset\\aws_review_sofware_dataset (1).csv\")\n"
     ]
    }
   ],
   "source": [
    "df=pd.read_csv(r\"C:\\Users\\rajitha\\Downloads\\aws_review_sofware_dataset\\aws_review_sofware_dataset (1).csv\")"
   ]
  },
  {
   "cell_type": "code",
   "execution_count": 3,
   "id": "d4433c1d-41e9-4e07-809a-17b3ec181bf4",
   "metadata": {
    "scrolled": true
   },
   "outputs": [
    {
     "data": {
      "text/html": [
       "<div>\n",
       "<style scoped>\n",
       "    .dataframe tbody tr th:only-of-type {\n",
       "        vertical-align: middle;\n",
       "    }\n",
       "\n",
       "    .dataframe tbody tr th {\n",
       "        vertical-align: top;\n",
       "    }\n",
       "\n",
       "    .dataframe thead th {\n",
       "        text-align: right;\n",
       "    }\n",
       "</style>\n",
       "<table border=\"1\" class=\"dataframe\">\n",
       "  <thead>\n",
       "    <tr style=\"text-align: right;\">\n",
       "      <th></th>\n",
       "      <th>Unnamed: 0</th>\n",
       "      <th>overall</th>\n",
       "      <th>verified</th>\n",
       "      <th>reviewTime</th>\n",
       "      <th>reviewerID</th>\n",
       "      <th>asin</th>\n",
       "      <th>style</th>\n",
       "      <th>reviewerName</th>\n",
       "      <th>reviewText</th>\n",
       "      <th>summary</th>\n",
       "      <th>unixReviewTime</th>\n",
       "      <th>vote</th>\n",
       "      <th>image</th>\n",
       "    </tr>\n",
       "  </thead>\n",
       "  <tbody>\n",
       "    <tr>\n",
       "      <th>0</th>\n",
       "      <td>0</td>\n",
       "      <td>4.0</td>\n",
       "      <td>True</td>\n",
       "      <td>03 11, 2014</td>\n",
       "      <td>A240ORQ2LF9LUI</td>\n",
       "      <td>0077613252</td>\n",
       "      <td>{'Format:': ' Loose Leaf'}</td>\n",
       "      <td>Michelle W</td>\n",
       "      <td>The materials arrived early and were in excell...</td>\n",
       "      <td>Material Great</td>\n",
       "      <td>1394496000</td>\n",
       "      <td>NaN</td>\n",
       "      <td>NaN</td>\n",
       "    </tr>\n",
       "    <tr>\n",
       "      <th>1</th>\n",
       "      <td>1</td>\n",
       "      <td>4.0</td>\n",
       "      <td>True</td>\n",
       "      <td>02 23, 2014</td>\n",
       "      <td>A1YCCU0YRLS0FE</td>\n",
       "      <td>0077613252</td>\n",
       "      <td>{'Format:': ' Loose Leaf'}</td>\n",
       "      <td>Rosalind White Ames</td>\n",
       "      <td>I am really enjoying this book with the worksh...</td>\n",
       "      <td>Health</td>\n",
       "      <td>1393113600</td>\n",
       "      <td>NaN</td>\n",
       "      <td>NaN</td>\n",
       "    </tr>\n",
       "    <tr>\n",
       "      <th>2</th>\n",
       "      <td>2</td>\n",
       "      <td>1.0</td>\n",
       "      <td>True</td>\n",
       "      <td>02 17, 2014</td>\n",
       "      <td>A1BJHRQDYVAY2J</td>\n",
       "      <td>0077613252</td>\n",
       "      <td>{'Format:': ' Loose Leaf'}</td>\n",
       "      <td>Allan R. Baker</td>\n",
       "      <td>IF YOU ARE TAKING THIS CLASS DON\"T WASTE YOUR ...</td>\n",
       "      <td>ARE YOU KIDING ME?</td>\n",
       "      <td>1392595200</td>\n",
       "      <td>7</td>\n",
       "      <td>NaN</td>\n",
       "    </tr>\n",
       "    <tr>\n",
       "      <th>3</th>\n",
       "      <td>3</td>\n",
       "      <td>3.0</td>\n",
       "      <td>True</td>\n",
       "      <td>02 17, 2014</td>\n",
       "      <td>APRDVZ6QBIQXT</td>\n",
       "      <td>0077613252</td>\n",
       "      <td>{'Format:': ' Loose Leaf'}</td>\n",
       "      <td>Lucy</td>\n",
       "      <td>This book was missing pages!!! Important pages...</td>\n",
       "      <td>missing pages!!</td>\n",
       "      <td>1392595200</td>\n",
       "      <td>3</td>\n",
       "      <td>NaN</td>\n",
       "    </tr>\n",
       "    <tr>\n",
       "      <th>4</th>\n",
       "      <td>4</td>\n",
       "      <td>5.0</td>\n",
       "      <td>False</td>\n",
       "      <td>10 14, 2013</td>\n",
       "      <td>A2JZTTBSLS1QXV</td>\n",
       "      <td>0077775473</td>\n",
       "      <td>NaN</td>\n",
       "      <td>Albert V.</td>\n",
       "      <td>I have used LearnSmart and can officially say ...</td>\n",
       "      <td>Best study product out there!</td>\n",
       "      <td>1381708800</td>\n",
       "      <td>NaN</td>\n",
       "      <td>NaN</td>\n",
       "    </tr>\n",
       "    <tr>\n",
       "      <th>...</th>\n",
       "      <td>...</td>\n",
       "      <td>...</td>\n",
       "      <td>...</td>\n",
       "      <td>...</td>\n",
       "      <td>...</td>\n",
       "      <td>...</td>\n",
       "      <td>...</td>\n",
       "      <td>...</td>\n",
       "      <td>...</td>\n",
       "      <td>...</td>\n",
       "      <td>...</td>\n",
       "      <td>...</td>\n",
       "      <td>...</td>\n",
       "    </tr>\n",
       "    <tr>\n",
       "      <th>459431</th>\n",
       "      <td>459431</td>\n",
       "      <td>2.0</td>\n",
       "      <td>True</td>\n",
       "      <td>11 29, 2016</td>\n",
       "      <td>AGEWYJ2NF5C2H</td>\n",
       "      <td>B01HF41TKI</td>\n",
       "      <td>NaN</td>\n",
       "      <td>Bonita Alferes</td>\n",
       "      <td>No instructions.....No Help unless you want to...</td>\n",
       "      <td>Two Stars</td>\n",
       "      <td>1480377600</td>\n",
       "      <td>NaN</td>\n",
       "      <td>NaN</td>\n",
       "    </tr>\n",
       "    <tr>\n",
       "      <th>459432</th>\n",
       "      <td>459432</td>\n",
       "      <td>1.0</td>\n",
       "      <td>True</td>\n",
       "      <td>03 1, 2018</td>\n",
       "      <td>A3VCFV8WEQG9R5</td>\n",
       "      <td>B01HF3G4BS</td>\n",
       "      <td>NaN</td>\n",
       "      <td>mekonen</td>\n",
       "      <td>it's a joke</td>\n",
       "      <td>One Star</td>\n",
       "      <td>1519862400</td>\n",
       "      <td>NaN</td>\n",
       "      <td>NaN</td>\n",
       "    </tr>\n",
       "    <tr>\n",
       "      <th>459433</th>\n",
       "      <td>459433</td>\n",
       "      <td>5.0</td>\n",
       "      <td>True</td>\n",
       "      <td>12 2, 2017</td>\n",
       "      <td>A3DXGHJF6SOHNC</td>\n",
       "      <td>B01HF3G4BS</td>\n",
       "      <td>NaN</td>\n",
       "      <td>bbeckham</td>\n",
       "      <td>I have multiple licenses of the Antivirus. I h...</td>\n",
       "      <td>This is very effective antivirus software.</td>\n",
       "      <td>1512172800</td>\n",
       "      <td>NaN</td>\n",
       "      <td>NaN</td>\n",
       "    </tr>\n",
       "    <tr>\n",
       "      <th>459434</th>\n",
       "      <td>459434</td>\n",
       "      <td>5.0</td>\n",
       "      <td>True</td>\n",
       "      <td>09 15, 2018</td>\n",
       "      <td>A1WOS4D7QA06DO</td>\n",
       "      <td>B01HJAMWOK</td>\n",
       "      <td>NaN</td>\n",
       "      <td>Charles E. Potter</td>\n",
       "      <td>good value</td>\n",
       "      <td>Five Stars</td>\n",
       "      <td>1536969600</td>\n",
       "      <td>NaN</td>\n",
       "      <td>NaN</td>\n",
       "    </tr>\n",
       "    <tr>\n",
       "      <th>459435</th>\n",
       "      <td>459435</td>\n",
       "      <td>5.0</td>\n",
       "      <td>True</td>\n",
       "      <td>10 5, 2016</td>\n",
       "      <td>A20SG9ZGIIFW69</td>\n",
       "      <td>B01HJAMWOK</td>\n",
       "      <td>NaN</td>\n",
       "      <td>Joe</td>\n",
       "      <td>very nice designs easy to use.</td>\n",
       "      <td>Five Stars</td>\n",
       "      <td>1475625600</td>\n",
       "      <td>NaN</td>\n",
       "      <td>NaN</td>\n",
       "    </tr>\n",
       "  </tbody>\n",
       "</table>\n",
       "<p>459436 rows × 13 columns</p>\n",
       "</div>"
      ],
      "text/plain": [
       "        Unnamed: 0  overall  verified   reviewTime      reviewerID  \\\n",
       "0                0      4.0      True  03 11, 2014  A240ORQ2LF9LUI   \n",
       "1                1      4.0      True  02 23, 2014  A1YCCU0YRLS0FE   \n",
       "2                2      1.0      True  02 17, 2014  A1BJHRQDYVAY2J   \n",
       "3                3      3.0      True  02 17, 2014   APRDVZ6QBIQXT   \n",
       "4                4      5.0     False  10 14, 2013  A2JZTTBSLS1QXV   \n",
       "...            ...      ...       ...          ...             ...   \n",
       "459431      459431      2.0      True  11 29, 2016   AGEWYJ2NF5C2H   \n",
       "459432      459432      1.0      True   03 1, 2018  A3VCFV8WEQG9R5   \n",
       "459433      459433      5.0      True   12 2, 2017  A3DXGHJF6SOHNC   \n",
       "459434      459434      5.0      True  09 15, 2018  A1WOS4D7QA06DO   \n",
       "459435      459435      5.0      True   10 5, 2016  A20SG9ZGIIFW69   \n",
       "\n",
       "              asin                       style         reviewerName  \\\n",
       "0       0077613252  {'Format:': ' Loose Leaf'}           Michelle W   \n",
       "1       0077613252  {'Format:': ' Loose Leaf'}  Rosalind White Ames   \n",
       "2       0077613252  {'Format:': ' Loose Leaf'}       Allan R. Baker   \n",
       "3       0077613252  {'Format:': ' Loose Leaf'}                 Lucy   \n",
       "4       0077775473                         NaN            Albert V.   \n",
       "...            ...                         ...                  ...   \n",
       "459431  B01HF41TKI                         NaN       Bonita Alferes   \n",
       "459432  B01HF3G4BS                         NaN              mekonen   \n",
       "459433  B01HF3G4BS                         NaN             bbeckham   \n",
       "459434  B01HJAMWOK                         NaN    Charles E. Potter   \n",
       "459435  B01HJAMWOK                         NaN                  Joe   \n",
       "\n",
       "                                               reviewText  \\\n",
       "0       The materials arrived early and were in excell...   \n",
       "1       I am really enjoying this book with the worksh...   \n",
       "2       IF YOU ARE TAKING THIS CLASS DON\"T WASTE YOUR ...   \n",
       "3       This book was missing pages!!! Important pages...   \n",
       "4       I have used LearnSmart and can officially say ...   \n",
       "...                                                   ...   \n",
       "459431  No instructions.....No Help unless you want to...   \n",
       "459432                                        it's a joke   \n",
       "459433  I have multiple licenses of the Antivirus. I h...   \n",
       "459434                                         good value   \n",
       "459435                     very nice designs easy to use.   \n",
       "\n",
       "                                           summary  unixReviewTime vote image  \n",
       "0                                   Material Great      1394496000  NaN   NaN  \n",
       "1                                           Health      1393113600  NaN   NaN  \n",
       "2                               ARE YOU KIDING ME?      1392595200    7   NaN  \n",
       "3                                  missing pages!!      1392595200    3   NaN  \n",
       "4                    Best study product out there!      1381708800  NaN   NaN  \n",
       "...                                            ...             ...  ...   ...  \n",
       "459431                                   Two Stars      1480377600  NaN   NaN  \n",
       "459432                                    One Star      1519862400  NaN   NaN  \n",
       "459433  This is very effective antivirus software.      1512172800  NaN   NaN  \n",
       "459434                                  Five Stars      1536969600  NaN   NaN  \n",
       "459435                                  Five Stars      1475625600  NaN   NaN  \n",
       "\n",
       "[459436 rows x 13 columns]"
      ]
     },
     "execution_count": 3,
     "metadata": {},
     "output_type": "execute_result"
    }
   ],
   "source": [
    "df"
   ]
  },
  {
   "cell_type": "code",
   "execution_count": 4,
   "id": "b0ba0135-67d5-4e82-a1b6-13b23a5334b8",
   "metadata": {},
   "outputs": [],
   "source": [
    "df_y=df[\"verified\"]"
   ]
  },
  {
   "cell_type": "code",
   "execution_count": 5,
   "id": "ff9f2b92-112b-4823-a839-86588f975fef",
   "metadata": {},
   "outputs": [],
   "source": [
    "df_y_1=pd.DataFrame(df_y)"
   ]
  },
  {
   "cell_type": "code",
   "execution_count": 6,
   "id": "af222f99-6368-4646-b164-f03fcea82bc0",
   "metadata": {},
   "outputs": [
    {
     "data": {
      "text/html": [
       "<div>\n",
       "<style scoped>\n",
       "    .dataframe tbody tr th:only-of-type {\n",
       "        vertical-align: middle;\n",
       "    }\n",
       "\n",
       "    .dataframe tbody tr th {\n",
       "        vertical-align: top;\n",
       "    }\n",
       "\n",
       "    .dataframe thead th {\n",
       "        text-align: right;\n",
       "    }\n",
       "</style>\n",
       "<table border=\"1\" class=\"dataframe\">\n",
       "  <thead>\n",
       "    <tr style=\"text-align: right;\">\n",
       "      <th></th>\n",
       "      <th>verified</th>\n",
       "    </tr>\n",
       "  </thead>\n",
       "  <tbody>\n",
       "    <tr>\n",
       "      <th>0</th>\n",
       "      <td>True</td>\n",
       "    </tr>\n",
       "    <tr>\n",
       "      <th>1</th>\n",
       "      <td>True</td>\n",
       "    </tr>\n",
       "    <tr>\n",
       "      <th>2</th>\n",
       "      <td>True</td>\n",
       "    </tr>\n",
       "    <tr>\n",
       "      <th>3</th>\n",
       "      <td>True</td>\n",
       "    </tr>\n",
       "    <tr>\n",
       "      <th>4</th>\n",
       "      <td>False</td>\n",
       "    </tr>\n",
       "    <tr>\n",
       "      <th>...</th>\n",
       "      <td>...</td>\n",
       "    </tr>\n",
       "    <tr>\n",
       "      <th>459431</th>\n",
       "      <td>True</td>\n",
       "    </tr>\n",
       "    <tr>\n",
       "      <th>459432</th>\n",
       "      <td>True</td>\n",
       "    </tr>\n",
       "    <tr>\n",
       "      <th>459433</th>\n",
       "      <td>True</td>\n",
       "    </tr>\n",
       "    <tr>\n",
       "      <th>459434</th>\n",
       "      <td>True</td>\n",
       "    </tr>\n",
       "    <tr>\n",
       "      <th>459435</th>\n",
       "      <td>True</td>\n",
       "    </tr>\n",
       "  </tbody>\n",
       "</table>\n",
       "<p>459436 rows × 1 columns</p>\n",
       "</div>"
      ],
      "text/plain": [
       "        verified\n",
       "0           True\n",
       "1           True\n",
       "2           True\n",
       "3           True\n",
       "4          False\n",
       "...          ...\n",
       "459431      True\n",
       "459432      True\n",
       "459433      True\n",
       "459434      True\n",
       "459435      True\n",
       "\n",
       "[459436 rows x 1 columns]"
      ]
     },
     "execution_count": 6,
     "metadata": {},
     "output_type": "execute_result"
    }
   ],
   "source": [
    "df_y_1"
   ]
  },
  {
   "cell_type": "code",
   "execution_count": 7,
   "id": "04d53eba-2bba-4467-a0f2-11952669cf5d",
   "metadata": {},
   "outputs": [
    {
     "data": {
      "text/plain": [
       "86"
      ]
     },
     "execution_count": 7,
     "metadata": {},
     "output_type": "execute_result"
    }
   ],
   "source": [
    "df[\"reviewText\"].isnull().sum()"
   ]
  },
  {
   "cell_type": "code",
   "execution_count": 8,
   "id": "b91b1264-ffe7-4de7-ad18-b949abfbb0ce",
   "metadata": {},
   "outputs": [
    {
     "data": {
      "text/plain": [
       "Index(['Unnamed: 0', 'overall', 'verified', 'reviewTime', 'reviewerID', 'asin',\n",
       "       'style', 'reviewerName', 'reviewText', 'summary', 'unixReviewTime',\n",
       "       'vote', 'image'],\n",
       "      dtype='object')"
      ]
     },
     "execution_count": 8,
     "metadata": {},
     "output_type": "execute_result"
    }
   ],
   "source": [
    "df.columns"
   ]
  },
  {
   "cell_type": "code",
   "execution_count": 9,
   "id": "69f8d16c-6607-44a0-a3c9-6e4bca6f586a",
   "metadata": {},
   "outputs": [
    {
     "data": {
      "text/plain": [
       "(459436, 13)"
      ]
     },
     "execution_count": 9,
     "metadata": {},
     "output_type": "execute_result"
    }
   ],
   "source": [
    "df.shape"
   ]
  },
  {
   "cell_type": "code",
   "execution_count": 10,
   "id": "0ce29025-c371-4d5c-9ae8-49511a1e436c",
   "metadata": {},
   "outputs": [
    {
     "data": {
      "text/plain": [
       "Unnamed: 0             0\n",
       "overall                0\n",
       "verified               0\n",
       "reviewTime             0\n",
       "reviewerID             0\n",
       "asin                   0\n",
       "style             225035\n",
       "reviewerName          76\n",
       "reviewText            86\n",
       "summary               61\n",
       "unixReviewTime         0\n",
       "vote              331583\n",
       "image             457928\n",
       "dtype: int64"
      ]
     },
     "execution_count": 10,
     "metadata": {},
     "output_type": "execute_result"
    }
   ],
   "source": [
    "df.isnull().sum()"
   ]
  },
  {
   "cell_type": "code",
   "execution_count": 11,
   "id": "44208b34-3dbc-4f3c-83c6-dc619b15798d",
   "metadata": {},
   "outputs": [
    {
     "data": {
      "text/plain": [
       "0         The materials arrived early and were in excell...\n",
       "1         I am really enjoying this book with the worksh...\n",
       "2         IF YOU ARE TAKING THIS CLASS DON\"T WASTE YOUR ...\n",
       "3         This book was missing pages!!! Important pages...\n",
       "4         I have used LearnSmart and can officially say ...\n",
       "                                ...                        \n",
       "459431    No instructions.....No Help unless you want to...\n",
       "459432                                          it's a joke\n",
       "459433    I have multiple licenses of the Antivirus. I h...\n",
       "459434                                           good value\n",
       "459435                       very nice designs easy to use.\n",
       "Name: reviewText, Length: 459436, dtype: object"
      ]
     },
     "execution_count": 11,
     "metadata": {},
     "output_type": "execute_result"
    }
   ],
   "source": [
    "df[\"reviewText\"]"
   ]
  },
  {
   "cell_type": "code",
   "execution_count": 12,
   "id": "9e18e5c3-6419-4d82-a386-53f23c19b0bd",
   "metadata": {},
   "outputs": [],
   "source": [
    "df[\"reviewText\"]=df[\"reviewText\"].str.lower()"
   ]
  },
  {
   "cell_type": "code",
   "execution_count": 13,
   "id": "5af0fdb7-7479-49ef-8885-991ee2ab4b0b",
   "metadata": {},
   "outputs": [
    {
     "data": {
      "text/plain": [
       "0         the materials arrived early and were in excell...\n",
       "1         i am really enjoying this book with the worksh...\n",
       "2         if you are taking this class don\"t waste your ...\n",
       "3         this book was missing pages!!! important pages...\n",
       "4         i have used learnsmart and can officially say ...\n",
       "                                ...                        \n",
       "459431    no instructions.....no help unless you want to...\n",
       "459432                                          it's a joke\n",
       "459433    i have multiple licenses of the antivirus. i h...\n",
       "459434                                           good value\n",
       "459435                       very nice designs easy to use.\n",
       "Name: reviewText, Length: 459436, dtype: object"
      ]
     },
     "execution_count": 13,
     "metadata": {},
     "output_type": "execute_result"
    }
   ],
   "source": [
    "df[\"reviewText\"]"
   ]
  },
  {
   "cell_type": "code",
   "execution_count": 14,
   "id": "8af1b63e-7664-4cd9-9750-85c4c4020167",
   "metadata": {},
   "outputs": [],
   "source": [
    "df[\"words\"]=\"default value\"\n",
    "df[\"sentences\"]=\"default value\"\n",
    "\n",
    "\n",
    "for i in range(df.shape[0]):\n",
    "    df.at[i,\"words\"]= list(\"\")\n",
    "    df.at[i,\"sentences\"] = list(\"\")"
   ]
  },
  {
   "cell_type": "code",
   "execution_count": 16,
   "id": "ff94c8f1-2b9b-4a71-a53a-e98a7c8d2e66",
   "metadata": {},
   "outputs": [
    {
     "ename": "NameError",
     "evalue": "name 'sent_tokenize' is not defined",
     "output_type": "error",
     "traceback": [
      "\u001b[1;31m---------------------------------------------------------------------------\u001b[0m",
      "\u001b[1;31mNameError\u001b[0m                                 Traceback (most recent call last)",
      "Cell \u001b[1;32mIn[16], line 2\u001b[0m\n\u001b[0;32m      1\u001b[0m \u001b[38;5;28;01mfor\u001b[39;00m i \u001b[38;5;129;01min\u001b[39;00m \u001b[38;5;28mrange\u001b[39m(\u001b[38;5;241m499\u001b[39m):\n\u001b[1;32m----> 2\u001b[0m     l1\u001b[38;5;241m=\u001b[39m sent_tokenize(df\u001b[38;5;241m.\u001b[39mloc[i,\u001b[38;5;124m\"\u001b[39m\u001b[38;5;124mreviewText\u001b[39m\u001b[38;5;124m\"\u001b[39m])\n\u001b[0;32m      3\u001b[0m     df\u001b[38;5;241m.\u001b[39mat[i,\u001b[38;5;124m\"\u001b[39m\u001b[38;5;124msentences\u001b[39m\u001b[38;5;124m\"\u001b[39m]\u001b[38;5;241m=\u001b[39ml1\n",
      "\u001b[1;31mNameError\u001b[0m: name 'sent_tokenize' is not defined"
     ]
    }
   ],
   "source": [
    "for i in range(499):\n",
    "    l1= sent_tokenize(df.loc[i,\"reviewText\"])\n",
    "    df.at[i,\"sentences\"]=l1"
   ]
  },
  {
   "cell_type": "code",
   "execution_count": null,
   "id": "9824d759-2c25-4387-91b9-395d568a8736",
   "metadata": {},
   "outputs": [],
   "source": [
    "from pywsd.utils import lemmatize_sentence\n"
   ]
  },
  {
   "cell_type": "code",
   "execution_count": null,
   "id": "583b1a85-a395-4170-979c-ce1a655535b8",
   "metadata": {},
   "outputs": [],
   "source": [
    "for k in range(df.shape[1]):\n",
    "    df.at[k,\"words\"]=list(\"\")\n",
    "    for j in range(len(df.loc[k,\"sentences\"])):\n",
    "        df.at[k,\"words\"].extend(lemmatize_sentence(df.loc[k,\"sentences\"][j]))"
   ]
  },
  {
   "cell_type": "code",
   "execution_count": null,
   "id": "6e1b1cac-98bd-45cb-9b72-b6caf003fe31",
   "metadata": {},
   "outputs": [],
   "source": [
    "df[\"words_sentences\"] = \"default\""
   ]
  },
  {
   "cell_type": "code",
   "execution_count": null,
   "id": "58d68667-1790-408b-9510-732fc5b6e8f6",
   "metadata": {},
   "outputs": [],
   "source": [
    "import functools\n",
    "df.loc[k, \"words_sentences\"] = functools.reduce(lambda a, b: str(a) + \" \" + str(b), df.loc[k, \"words\"], \"\")"
   ]
  },
  {
   "cell_type": "code",
   "execution_count": null,
   "id": "befb2116-7fc8-4d27-a304-773fe14fdced",
   "metadata": {},
   "outputs": [],
   "source": [
    "from sklearn.feature_extraction.text import  CountVectorizer"
   ]
  },
  {
   "cell_type": "code",
   "execution_count": null,
   "id": "6a8eacd6-8dac-4087-ab6b-ac10bdfcc014",
   "metadata": {},
   "outputs": [],
   "source": [
    "from sklearn.feature_extraction.text import CountVectorizer\n",
    "import pandas as pd\n",
    "\n",
    "# Ensure df1 is correctly assigned\n",
    "df1 = df.copy()\n",
    "\n",
    "# Set the number of features\n",
    "no_features = 500 \n",
    "\n",
    "# Convert list of words into sentences\n",
    "df1[\"words_sentences\"] = df1[\"words\"].apply(lambda x: \" \".join(x) if isinstance(x, list) else \"\")\n",
    "\n",
    "# Initialize and fit CountVectorizer\n",
    "tf_vectorizer = CountVectorizer(max_df=0.9, min_df=2, max_features=no_features, stop_words='english')\n",
    "tf = tf_vectorizer.fit_transform(df1[\"words_sentences\"])  # Assign tf before using it\n",
    "\n",
    "# Convert tf to DataFrame and save as CSV\n",
    "dff=pd.DataFrame(tf.A, columns=tf_vectorizer.get_feature_names_out())\n"
   ]
  },
  {
   "cell_type": "code",
   "execution_count": null,
   "id": "a4a384f7-32d4-4f3c-a814-2a104431cae8",
   "metadata": {},
   "outputs": [],
   "source": [
    "dff"
   ]
  },
  {
   "cell_type": "code",
   "execution_count": null,
   "id": "eff4866d-08cb-46f9-8f50-a8b6f38b2fc9",
   "metadata": {},
   "outputs": [],
   "source": [
    "dff.columns"
   ]
  },
  {
   "cell_type": "code",
   "execution_count": null,
   "id": "ca35b424-9c24-469f-aef2-2b28482d73b3",
   "metadata": {},
   "outputs": [],
   "source": [
    "df.columns"
   ]
  },
  {
   "cell_type": "code",
   "execution_count": null,
   "id": "20f5da9f-ceec-4c9d-bd3d-6b65b844516a",
   "metadata": {},
   "outputs": [],
   "source": [
    "dff.isnull().sum()"
   ]
  },
  {
   "cell_type": "code",
   "execution_count": null,
   "id": "c9ce5563-3692-4331-b1f5-d98ae60f3502",
   "metadata": {},
   "outputs": [],
   "source": [
    "dff.to_csv('aws_softwarereviws_cv.csv', index=False)"
   ]
  },
  {
   "cell_type": "code",
   "execution_count": null,
   "id": "23cccf4d-7b5e-4723-aa0a-0801146cd176",
   "metadata": {},
   "outputs": [],
   "source": [
    "!pip install xlrd"
   ]
  },
  {
   "cell_type": "code",
   "execution_count": null,
   "id": "b53aa371-2a25-4909-8e59-9ec3175ccd4e",
   "metadata": {},
   "outputs": [],
   "source": [
    "# df1=pd.read_excel(r\"C:\\Users\\rajitha\\Downloads\\aws_softwarereviws_cv.xls\")"
   ]
  },
  {
   "cell_type": "code",
   "execution_count": null,
   "id": "9c386b4a-4baf-4746-bbd4-b72f697d6330",
   "metadata": {},
   "outputs": [],
   "source": [
    "from sklearn.feature_extraction.text import TfidfVectorizer"
   ]
  },
  {
   "cell_type": "code",
   "execution_count": null,
   "id": "3ce36695-7f58-4432-ad83-0c04bbb9ee4d",
   "metadata": {},
   "outputs": [],
   "source": [
    "# Create TF-IDF vectorizer\n",
    "vectorizer = TfidfVectorizer()\n",
    "tfidf_matrix = vectorizer.fit_transform(dff.columns)\n",
    "\n",
    "# # Get feature names\n",
    "feature_names = vectorizer.get_feature_names_out()\n",
    "\n",
    "# # Convert to array and print\n",
    "import pandas as pd\n",
    "df = pd.DataFrame(tfidf_matrix.toarray(), columns=feature_names)\n",
    "print(df)"
   ]
  },
  {
   "cell_type": "code",
   "execution_count": null,
   "id": "07d923b9-5aaf-4c65-abeb-98da8ccd9411",
   "metadata": {},
   "outputs": [],
   "source": [
    "from sklearn.preprocessing import LabelEncoder\n",
    "le=LabelEncoder()\n",
    "df_y_enc=df_y_1.apply(le.fit_transform)\n"
   ]
  },
  {
   "cell_type": "code",
   "execution_count": null,
   "id": "96858900-1b39-4402-8431-d8eb71786726",
   "metadata": {},
   "outputs": [],
   "source": [
    "df_y_enc.head(5)"
   ]
  },
  {
   "cell_type": "code",
   "execution_count": null,
   "id": "a49e7ca1-9ae8-468c-9660-3d0e1819d9e6",
   "metadata": {},
   "outputs": [],
   "source": [
    "from sklearn.ensemble import GradientBoostingClassifier\n",
    "GBC=GradientBoostingClassifier(n_estimators=3000)\n",
    "gb_c=GBC.fit(dff,df_y_enc)"
   ]
  },
  {
   "cell_type": "code",
   "execution_count": null,
   "id": "c93cd958-c560-4736-aee0-97e61428e463",
   "metadata": {},
   "outputs": [],
   "source": [
    "GBC.score(dense,df_y_enc)"
   ]
  }
 ],
 "metadata": {
  "kernelspec": {
   "display_name": "Python 3 (ipykernel)",
   "language": "python",
   "name": "python3"
  },
  "language_info": {
   "codemirror_mode": {
    "name": "ipython",
    "version": 3
   },
   "file_extension": ".py",
   "mimetype": "text/x-python",
   "name": "python",
   "nbconvert_exporter": "python",
   "pygments_lexer": "ipython3",
   "version": "3.12.7"
  }
 },
 "nbformat": 4,
 "nbformat_minor": 5
}
